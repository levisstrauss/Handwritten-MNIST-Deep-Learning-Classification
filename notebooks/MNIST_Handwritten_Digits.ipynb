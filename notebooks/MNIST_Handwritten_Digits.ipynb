{
 "cells": [
  {
   "cell_type": "markdown",
   "metadata": {},
   "source": [
    "# Introduction\n",
    "\n",
    "In this project, you will build a neural network of your own design to evaluate the MNIST dataset.\n",
    "\n",
    "Some of the benchmark results on MNIST include can be found [on Yann LeCun's page](https://webcache.googleusercontent.com/search?q=cache:stAVPik6onEJ:yann.lecun.com/exdb/mnist) and include:\n",
    "\n",
    "88% [Lecun et al., 1998](https://hal.science/hal-03926082/document)\n",
    "\n",
    "95.3% [Lecun et al., 1998](https://hal.science/hal-03926082v1/document)\n",
    "\n",
    "99.65% [Ciresan et al., 2011](http://people.idsia.ch/~juergen/ijcai2011.pdf)\n",
    "\n",
    "\n",
    "MNIST is a great dataset for sanity checking your models, since the accuracy levels achieved by large convolutional neural networks and small linear models are both quite high. This makes it important to be familiar with the data.\n",
    "\n",
    "## Installation"
   ]
  },
  {
   "cell_type": "code",
   "execution_count": 2,
   "metadata": {},
   "outputs": [],
   "source": [
    "# Update the PATH to include the user installation directory. \n",
    "import os\n",
    "os.environ['PATH'] = f\"{os.environ['PATH']}:/root/.local/bin\"\n",
    "\n",
    "# Restart the Kernel before you move on to the next step."
   ]
  },
  {
   "cell_type": "markdown",
   "metadata": {},
   "source": [
    "#### Important: Restart the Kernel before you move on to the next step."
   ]
  },
  {
   "cell_type": "code",
   "execution_count": 3,
   "metadata": {},
   "outputs": [
    {
     "name": "stdout",
     "output_type": "stream",
     "text": [
      "Defaulting to user installation because normal site-packages is not writeable\n",
      "Requirement already satisfied: opencv-python-headless==4.5.3.56 in /root/.local/lib/python3.7/site-packages (from -r requirements.txt (line 1)) (4.5.3.56)\n",
      "Requirement already satisfied: matplotlib==3.4.3 in /opt/conda/lib/python3.7/site-packages (from -r requirements.txt (line 2)) (3.4.3)\n",
      "Requirement already satisfied: numpy==1.21.2 in /opt/conda/lib/python3.7/site-packages (from -r requirements.txt (line 3)) (1.21.2)\n",
      "Requirement already satisfied: pillow==7.0.0 in /opt/conda/lib/python3.7/site-packages (from -r requirements.txt (line 4)) (7.0.0)\n",
      "Requirement already satisfied: bokeh==2.1.1 in /root/.local/lib/python3.7/site-packages (from -r requirements.txt (line 5)) (2.1.1)\n",
      "Requirement already satisfied: torch==1.11.0 in /opt/conda/lib/python3.7/site-packages (from -r requirements.txt (line 6)) (1.11.0)\n",
      "Requirement already satisfied: torchvision==0.12.0 in /root/.local/lib/python3.7/site-packages (from -r requirements.txt (line 7)) (0.12.0)\n",
      "Requirement already satisfied: tqdm==4.63.0 in /root/.local/lib/python3.7/site-packages (from -r requirements.txt (line 8)) (4.63.0)\n",
      "Requirement already satisfied: ipywidgets==7.7.0 in /root/.local/lib/python3.7/site-packages (from -r requirements.txt (line 9)) (7.7.0)\n",
      "Requirement already satisfied: livelossplot==0.5.4 in /root/.local/lib/python3.7/site-packages (from -r requirements.txt (line 10)) (0.5.4)\n",
      "Requirement already satisfied: pytest==7.1.1 in /root/.local/lib/python3.7/site-packages (from -r requirements.txt (line 11)) (7.1.1)\n",
      "Requirement already satisfied: pandas==1.3.5 in /root/.local/lib/python3.7/site-packages (from -r requirements.txt (line 12)) (1.3.5)\n",
      "Requirement already satisfied: seaborn==0.11.2 in /root/.local/lib/python3.7/site-packages (from -r requirements.txt (line 13)) (0.11.2)\n",
      "Requirement already satisfied: jupyter==1.0.0 in /root/.local/lib/python3.7/site-packages (from -r requirements.txt (line 14)) (1.0.0)\n",
      "Requirement already satisfied: ipykernel==4.10.0 in /root/.local/lib/python3.7/site-packages (from -r requirements.txt (line 15)) (4.10.0)\n",
      "Requirement already satisfied: kiwisolver>=1.0.1 in /opt/conda/lib/python3.7/site-packages (from matplotlib==3.4.3->-r requirements.txt (line 2)) (1.1.0)\n",
      "Requirement already satisfied: python-dateutil>=2.7 in /opt/conda/lib/python3.7/site-packages (from matplotlib==3.4.3->-r requirements.txt (line 2)) (2.8.1)\n",
      "Requirement already satisfied: pyparsing>=2.2.1 in /opt/conda/lib/python3.7/site-packages (from matplotlib==3.4.3->-r requirements.txt (line 2)) (2.4.6)\n",
      "Requirement already satisfied: cycler>=0.10 in /opt/conda/lib/python3.7/site-packages (from matplotlib==3.4.3->-r requirements.txt (line 2)) (0.10.0)\n",
      "Requirement already satisfied: typing-extensions>=3.7.4 in /opt/conda/lib/python3.7/site-packages (from bokeh==2.1.1->-r requirements.txt (line 5)) (3.7.4.1)\n",
      "Requirement already satisfied: packaging>=16.8 in /opt/conda/lib/python3.7/site-packages (from bokeh==2.1.1->-r requirements.txt (line 5)) (20.1)\n",
      "Requirement already satisfied: PyYAML>=3.10 in /opt/conda/lib/python3.7/site-packages (from bokeh==2.1.1->-r requirements.txt (line 5)) (5.3)\n",
      "Requirement already satisfied: Jinja2>=2.7 in /opt/conda/lib/python3.7/site-packages (from bokeh==2.1.1->-r requirements.txt (line 5)) (2.11.1)\n",
      "Requirement already satisfied: tornado>=5.1 in /opt/conda/lib/python3.7/site-packages (from bokeh==2.1.1->-r requirements.txt (line 5)) (5.1.1)\n",
      "Requirement already satisfied: requests in /opt/conda/lib/python3.7/site-packages (from torchvision==0.12.0->-r requirements.txt (line 7)) (2.23.0)\n",
      "Requirement already satisfied: widgetsnbextension~=3.6.0 in /root/.local/lib/python3.7/site-packages (from ipywidgets==7.7.0->-r requirements.txt (line 9)) (3.6.10)\n",
      "Requirement already satisfied: ipython>=4.0.0; python_version >= \"3.3\" in /opt/conda/lib/python3.7/site-packages (from ipywidgets==7.7.0->-r requirements.txt (line 9)) (7.13.0)\n",
      "Requirement already satisfied: jupyterlab-widgets>=1.0.0; python_version >= \"3.6\" in /root/.local/lib/python3.7/site-packages (from ipywidgets==7.7.0->-r requirements.txt (line 9)) (3.0.15)\n",
      "Requirement already satisfied: nbformat>=4.2.0 in /opt/conda/lib/python3.7/site-packages (from ipywidgets==7.7.0->-r requirements.txt (line 9)) (5.0.4)\n",
      "Requirement already satisfied: traitlets>=4.3.1 in /opt/conda/lib/python3.7/site-packages (from ipywidgets==7.7.0->-r requirements.txt (line 9)) (4.3.3)\n",
      "Requirement already satisfied: ipython-genutils~=0.2.0 in /opt/conda/lib/python3.7/site-packages (from ipywidgets==7.7.0->-r requirements.txt (line 9)) (0.2.0)\n",
      "Requirement already satisfied: importlib-metadata>=0.12; python_version < \"3.8\" in /opt/conda/lib/python3.7/site-packages (from pytest==7.1.1->-r requirements.txt (line 11)) (1.5.0)\n",
      "Requirement already satisfied: iniconfig in /root/.local/lib/python3.7/site-packages (from pytest==7.1.1->-r requirements.txt (line 11)) (2.0.0)\n",
      "Requirement already satisfied: py>=1.8.2 in /root/.local/lib/python3.7/site-packages (from pytest==7.1.1->-r requirements.txt (line 11)) (1.11.0)\n",
      "Requirement already satisfied: tomli>=1.0.0 in /root/.local/lib/python3.7/site-packages (from pytest==7.1.1->-r requirements.txt (line 11)) (2.0.1)\n",
      "Requirement already satisfied: pluggy<2.0,>=0.12 in /root/.local/lib/python3.7/site-packages (from pytest==7.1.1->-r requirements.txt (line 11)) (1.2.0)\n",
      "Requirement already satisfied: attrs>=19.2.0 in /opt/conda/lib/python3.7/site-packages (from pytest==7.1.1->-r requirements.txt (line 11)) (19.3.0)\n",
      "Requirement already satisfied: pytz>=2017.3 in /opt/conda/lib/python3.7/site-packages (from pandas==1.3.5->-r requirements.txt (line 12)) (2019.3)\n",
      "Requirement already satisfied: scipy>=1.0 in /opt/conda/lib/python3.7/site-packages (from seaborn==0.11.2->-r requirements.txt (line 13)) (1.7.1)\n",
      "Requirement already satisfied: jupyter-console in /root/.local/lib/python3.7/site-packages (from jupyter==1.0.0->-r requirements.txt (line 14)) (6.6.3)\n",
      "Requirement already satisfied: notebook in /opt/conda/lib/python3.7/site-packages (from jupyter==1.0.0->-r requirements.txt (line 14)) (5.7.4)\n",
      "Requirement already satisfied: qtconsole in /root/.local/lib/python3.7/site-packages (from jupyter==1.0.0->-r requirements.txt (line 14)) (5.4.4)\n",
      "Requirement already satisfied: nbconvert in /opt/conda/lib/python3.7/site-packages (from jupyter==1.0.0->-r requirements.txt (line 14)) (5.6.1)\n",
      "Requirement already satisfied: jupyter-client in /opt/conda/lib/python3.7/site-packages (from ipykernel==4.10.0->-r requirements.txt (line 15)) (6.0.0)\n",
      "Requirement already satisfied: setuptools in /opt/conda/lib/python3.7/site-packages (from kiwisolver>=1.0.1->matplotlib==3.4.3->-r requirements.txt (line 2)) (45.2.0.post20200209)\n",
      "Requirement already satisfied: six>=1.5 in /opt/conda/lib/python3.7/site-packages (from python-dateutil>=2.7->matplotlib==3.4.3->-r requirements.txt (line 2)) (1.16.0)\n",
      "Requirement already satisfied: MarkupSafe>=0.23 in /opt/conda/lib/python3.7/site-packages (from Jinja2>=2.7->bokeh==2.1.1->-r requirements.txt (line 5)) (1.1.1)\n",
      "Requirement already satisfied: idna<3,>=2.5 in /opt/conda/lib/python3.7/site-packages (from requests->torchvision==0.12.0->-r requirements.txt (line 7)) (2.9)\n",
      "Requirement already satisfied: urllib3!=1.25.0,!=1.25.1,<1.26,>=1.21.1 in /opt/conda/lib/python3.7/site-packages (from requests->torchvision==0.12.0->-r requirements.txt (line 7)) (1.25.7)\n",
      "Requirement already satisfied: certifi>=2017.4.17 in /opt/conda/lib/python3.7/site-packages (from requests->torchvision==0.12.0->-r requirements.txt (line 7)) (2019.11.28)\n",
      "Requirement already satisfied: chardet<4,>=3.0.2 in /opt/conda/lib/python3.7/site-packages (from requests->torchvision==0.12.0->-r requirements.txt (line 7)) (3.0.4)\n",
      "Requirement already satisfied: pickleshare in /opt/conda/lib/python3.7/site-packages (from ipython>=4.0.0; python_version >= \"3.3\"->ipywidgets==7.7.0->-r requirements.txt (line 9)) (0.7.5)\n",
      "Requirement already satisfied: pexpect; sys_platform != \"win32\" in /opt/conda/lib/python3.7/site-packages (from ipython>=4.0.0; python_version >= \"3.3\"->ipywidgets==7.7.0->-r requirements.txt (line 9)) (4.8.0)\n",
      "Requirement already satisfied: prompt-toolkit!=3.0.0,!=3.0.1,<3.1.0,>=2.0.0 in /opt/conda/lib/python3.7/site-packages (from ipython>=4.0.0; python_version >= \"3.3\"->ipywidgets==7.7.0->-r requirements.txt (line 9)) (3.0.3)\n",
      "Requirement already satisfied: jedi>=0.10 in /opt/conda/lib/python3.7/site-packages (from ipython>=4.0.0; python_version >= \"3.3\"->ipywidgets==7.7.0->-r requirements.txt (line 9)) (0.16.0)\n",
      "Requirement already satisfied: backcall in /opt/conda/lib/python3.7/site-packages (from ipython>=4.0.0; python_version >= \"3.3\"->ipywidgets==7.7.0->-r requirements.txt (line 9)) (0.1.0)\n",
      "Requirement already satisfied: decorator in /opt/conda/lib/python3.7/site-packages (from ipython>=4.0.0; python_version >= \"3.3\"->ipywidgets==7.7.0->-r requirements.txt (line 9)) (4.4.2)\n",
      "Requirement already satisfied: pygments in /opt/conda/lib/python3.7/site-packages (from ipython>=4.0.0; python_version >= \"3.3\"->ipywidgets==7.7.0->-r requirements.txt (line 9)) (2.5.2)\n",
      "Requirement already satisfied: jsonschema!=2.5.0,>=2.4 in /opt/conda/lib/python3.7/site-packages (from nbformat>=4.2.0->ipywidgets==7.7.0->-r requirements.txt (line 9)) (3.2.0)\n",
      "Requirement already satisfied: jupyter-core in /opt/conda/lib/python3.7/site-packages (from nbformat>=4.2.0->ipywidgets==7.7.0->-r requirements.txt (line 9)) (4.6.3)\n",
      "Requirement already satisfied: zipp>=0.5 in /opt/conda/lib/python3.7/site-packages (from importlib-metadata>=0.12; python_version < \"3.8\"->pytest==7.1.1->-r requirements.txt (line 11)) (3.0.0)\n",
      "Requirement already satisfied: pyzmq>=17 in /opt/conda/lib/python3.7/site-packages (from jupyter-console->jupyter==1.0.0->-r requirements.txt (line 14)) (19.0.0)\n",
      "Requirement already satisfied: prometheus-client in /opt/conda/lib/python3.7/site-packages (from notebook->jupyter==1.0.0->-r requirements.txt (line 14)) (0.7.1)\n",
      "Requirement already satisfied: terminado>=0.8.1 in /opt/conda/lib/python3.7/site-packages (from notebook->jupyter==1.0.0->-r requirements.txt (line 14)) (0.8.3)\n",
      "Requirement already satisfied: Send2Trash in /opt/conda/lib/python3.7/site-packages (from notebook->jupyter==1.0.0->-r requirements.txt (line 14)) (1.5.0)\n",
      "Requirement already satisfied: qtpy>=2.4.0 in /root/.local/lib/python3.7/site-packages (from qtconsole->jupyter==1.0.0->-r requirements.txt (line 14)) (2.4.3)\n"
     ]
    },
    {
     "name": "stdout",
     "output_type": "stream",
     "text": [
      "Requirement already satisfied: testpath in /opt/conda/lib/python3.7/site-packages (from nbconvert->jupyter==1.0.0->-r requirements.txt (line 14)) (0.4.4)\r\n",
      "Requirement already satisfied: entrypoints>=0.2.2 in /opt/conda/lib/python3.7/site-packages (from nbconvert->jupyter==1.0.0->-r requirements.txt (line 14)) (0.3)\r\n",
      "Requirement already satisfied: defusedxml in /opt/conda/lib/python3.7/site-packages (from nbconvert->jupyter==1.0.0->-r requirements.txt (line 14)) (0.6.0)\r\n",
      "Requirement already satisfied: pandocfilters>=1.4.1 in /opt/conda/lib/python3.7/site-packages (from nbconvert->jupyter==1.0.0->-r requirements.txt (line 14)) (1.4.2)\r\n",
      "Requirement already satisfied: bleach in /opt/conda/lib/python3.7/site-packages (from nbconvert->jupyter==1.0.0->-r requirements.txt (line 14)) (3.1.1)\r\n",
      "Requirement already satisfied: mistune<2,>=0.8.1 in /opt/conda/lib/python3.7/site-packages (from nbconvert->jupyter==1.0.0->-r requirements.txt (line 14)) (0.8.4)\r\n",
      "Requirement already satisfied: ptyprocess>=0.5 in /opt/conda/lib/python3.7/site-packages (from pexpect; sys_platform != \"win32\"->ipython>=4.0.0; python_version >= \"3.3\"->ipywidgets==7.7.0->-r requirements.txt (line 9)) (0.6.0)\r\n",
      "Requirement already satisfied: wcwidth in /opt/conda/lib/python3.7/site-packages (from prompt-toolkit!=3.0.0,!=3.0.1,<3.1.0,>=2.0.0->ipython>=4.0.0; python_version >= \"3.3\"->ipywidgets==7.7.0->-r requirements.txt (line 9)) (0.1.8)\r\n",
      "Requirement already satisfied: parso>=0.5.2 in /opt/conda/lib/python3.7/site-packages (from jedi>=0.10->ipython>=4.0.0; python_version >= \"3.3\"->ipywidgets==7.7.0->-r requirements.txt (line 9)) (0.6.1)\r\n",
      "Requirement already satisfied: pyrsistent>=0.14.0 in /opt/conda/lib/python3.7/site-packages (from jsonschema!=2.5.0,>=2.4->nbformat>=4.2.0->ipywidgets==7.7.0->-r requirements.txt (line 9)) (0.15.7)\r\n",
      "Requirement already satisfied: webencodings in /opt/conda/lib/python3.7/site-packages (from bleach->nbconvert->jupyter==1.0.0->-r requirements.txt (line 14)) (0.5.1)\r\n"
     ]
    }
   ],
   "source": [
    "# Install requirements\n",
    "!python -m pip install -r requirements.txt"
   ]
  },
  {
   "cell_type": "markdown",
   "metadata": {},
   "source": [
    "## Imports"
   ]
  },
  {
   "cell_type": "code",
   "execution_count": 4,
   "metadata": {},
   "outputs": [
    {
     "name": "stdout",
     "output_type": "stream",
     "text": [
      "Using device: cuda\n"
     ]
    }
   ],
   "source": [
    "## This cell contains the essential imports you will need – DO NOT CHANGE THE CONTENTS! ##\n",
    "import torch\n",
    "import torch.nn as nn\n",
    "import torch.nn.functional as F\n",
    "import torch.optim as optim\n",
    "import torchvision\n",
    "import torchvision.transforms as transforms\n",
    "import matplotlib.pyplot as plt\n",
    "import numpy as np\n",
    "from tqdm import tqdm\n",
    "import seaborn as sns\n",
    "from sklearn.metrics import confusion_matrix\n",
    "from typing import List, Optional, Tuple, Union\n",
    "\n",
    "# Set random seeds for reproducibility\n",
    "torch.manual_seed(42)\n",
    "np.random.seed(42)\n",
    "\n",
    "\n",
    "# Device configuration\n",
    "device = torch.device('cuda' if torch.cuda.is_available() else 'cpu')\n",
    "print(f\"Using device: {device}\")"
   ]
  },
  {
   "cell_type": "markdown",
   "metadata": {},
   "source": [
    "## Load the Dataset\n",
    "\n",
    "Specify your transforms as a list if you intend to .\n",
    "The transforms module is already loaded as `transforms`.\n",
    "\n",
    "MNIST is fortunately included in the torchvision module.\n",
    "Then, you can create your dataset using the `MNIST` object from `torchvision.datasets` ([the documentation is available here](https://pytorch.org/vision/stable/datasets.html#mnist)).\n",
    "Make sure to specify `download=True`! \n",
    "\n",
    "Once your dataset is created, you'll also need to define a `DataLoader` from the `torch.utils.data` module for both the train and the test set."
   ]
  },
  {
   "cell_type": "code",
   "execution_count": 5,
   "metadata": {},
   "outputs": [
    {
     "name": "stdout",
     "output_type": "stream",
     "text": [
      "Downloading http://yann.lecun.com/exdb/mnist/train-images-idx3-ubyte.gz\n",
      "Failed to download (trying next):\n",
      "HTTP Error 404: Not Found\n",
      "\n",
      "Downloading https://ossci-datasets.s3.amazonaws.com/mnist/train-images-idx3-ubyte.gz\n",
      "Downloading https://ossci-datasets.s3.amazonaws.com/mnist/train-images-idx3-ubyte.gz to ./data/MNIST/raw/train-images-idx3-ubyte.gz\n"
     ]
    },
    {
     "data": {
      "application/vnd.jupyter.widget-view+json": {
       "model_id": "706711648d4d4a6a8487e14c1217de4e",
       "version_major": 2,
       "version_minor": 0
      },
      "text/plain": [
       "  0%|          | 0/9912422 [00:00<?, ?it/s]"
      ]
     },
     "metadata": {},
     "output_type": "display_data"
    },
    {
     "name": "stdout",
     "output_type": "stream",
     "text": [
      "Extracting ./data/MNIST/raw/train-images-idx3-ubyte.gz to ./data/MNIST/raw\n",
      "\n",
      "Downloading http://yann.lecun.com/exdb/mnist/train-labels-idx1-ubyte.gz\n",
      "Failed to download (trying next):\n",
      "HTTP Error 404: Not Found\n",
      "\n",
      "Downloading https://ossci-datasets.s3.amazonaws.com/mnist/train-labels-idx1-ubyte.gz\n",
      "Downloading https://ossci-datasets.s3.amazonaws.com/mnist/train-labels-idx1-ubyte.gz to ./data/MNIST/raw/train-labels-idx1-ubyte.gz\n"
     ]
    },
    {
     "data": {
      "application/vnd.jupyter.widget-view+json": {
       "model_id": "e93815ca8df244d09dc5fe24bd56cf02",
       "version_major": 2,
       "version_minor": 0
      },
      "text/plain": [
       "  0%|          | 0/28881 [00:00<?, ?it/s]"
      ]
     },
     "metadata": {},
     "output_type": "display_data"
    },
    {
     "name": "stdout",
     "output_type": "stream",
     "text": [
      "Extracting ./data/MNIST/raw/train-labels-idx1-ubyte.gz to ./data/MNIST/raw\n",
      "\n",
      "Downloading http://yann.lecun.com/exdb/mnist/t10k-images-idx3-ubyte.gz\n",
      "Failed to download (trying next):\n",
      "HTTP Error 404: Not Found\n",
      "\n",
      "Downloading https://ossci-datasets.s3.amazonaws.com/mnist/t10k-images-idx3-ubyte.gz\n",
      "Downloading https://ossci-datasets.s3.amazonaws.com/mnist/t10k-images-idx3-ubyte.gz to ./data/MNIST/raw/t10k-images-idx3-ubyte.gz\n"
     ]
    },
    {
     "data": {
      "application/vnd.jupyter.widget-view+json": {
       "model_id": "c5887eae27a14f629b9cfc46109ef64d",
       "version_major": 2,
       "version_minor": 0
      },
      "text/plain": [
       "  0%|          | 0/1648877 [00:00<?, ?it/s]"
      ]
     },
     "metadata": {},
     "output_type": "display_data"
    },
    {
     "name": "stdout",
     "output_type": "stream",
     "text": [
      "Extracting ./data/MNIST/raw/t10k-images-idx3-ubyte.gz to ./data/MNIST/raw\n",
      "\n",
      "Downloading http://yann.lecun.com/exdb/mnist/t10k-labels-idx1-ubyte.gz\n",
      "Failed to download (trying next):\n",
      "HTTP Error 404: Not Found\n",
      "\n",
      "Downloading https://ossci-datasets.s3.amazonaws.com/mnist/t10k-labels-idx1-ubyte.gz\n",
      "Downloading https://ossci-datasets.s3.amazonaws.com/mnist/t10k-labels-idx1-ubyte.gz to ./data/MNIST/raw/t10k-labels-idx1-ubyte.gz\n"
     ]
    },
    {
     "data": {
      "application/vnd.jupyter.widget-view+json": {
       "model_id": "78f09dd5615a4166b5001c23d5aa6a62",
       "version_major": 2,
       "version_minor": 0
      },
      "text/plain": [
       "  0%|          | 0/4542 [00:00<?, ?it/s]"
      ]
     },
     "metadata": {},
     "output_type": "display_data"
    },
    {
     "name": "stdout",
     "output_type": "stream",
     "text": [
      "Extracting ./data/MNIST/raw/t10k-labels-idx1-ubyte.gz to ./data/MNIST/raw\n",
      "\n",
      "Training samples: 60000\n",
      "Test samples: 10000\n"
     ]
    }
   ],
   "source": [
    "#  Define transforms for training and testing\n",
    "train_transform = transforms.Compose([\n",
    "    transforms.ToTensor(),\n",
    "    transforms.Normalize((0.1307,), (0.3081,))  # MNIST mean and std\n",
    "])\n",
    "\n",
    "# For visualization, we'll use transforms without normalization\n",
    "viz_transform = transforms.Compose([\n",
    "    transforms.ToTensor()\n",
    "])\n",
    "\n",
    "# Create training set and define training dataloader\n",
    "train_dataset = torchvision.datasets.MNIST(\n",
    "    root='./data', \n",
    "    train=True, \n",
    "    download=True, \n",
    "    transform=train_transform\n",
    ")\n",
    "\n",
    "train_loader = torch.utils.data.DataLoader(\n",
    "    train_dataset, \n",
    "    batch_size=64, \n",
    "    shuffle=True,\n",
    "    num_workers=2\n",
    ")\n",
    "\n",
    "# Create test set and define test dataloader\n",
    "test_dataset = torchvision.datasets.MNIST(\n",
    "    root='./data', \n",
    "    train=False, \n",
    "    download=True, \n",
    "    transform=train_transform\n",
    ")\n",
    "\n",
    "test_loader = torch.utils.data.DataLoader(\n",
    "    test_dataset, \n",
    "    batch_size=64, \n",
    "    shuffle=False,\n",
    "    num_workers=2\n",
    ")\n",
    "\n",
    "# Visualization dataset (without normalization)\n",
    "viz_dataset = torchvision.datasets.MNIST(\n",
    "    root='./data', \n",
    "    train=True, \n",
    "    download=False, \n",
    "    transform=viz_transform\n",
    ")\n",
    "\n",
    "viz_loader = torch.utils.data.DataLoader(\n",
    "    viz_dataset, \n",
    "    batch_size=64, \n",
    "    shuffle=True\n",
    ")\n",
    "\n",
    "print(f\"Training samples: {len(train_dataset)}\")\n",
    "print(f\"Test samples: {len(test_dataset)}\")"
   ]
  },
  {
   "cell_type": "markdown",
   "metadata": {},
   "source": [
    "## Justify your preprocessing\n",
    "\n",
    "In your own words, why did you choose the transforms you chose? If you didn't use any preprocessing steps, why not?\n",
    "\n",
    "1. ToTensor(): \n",
    "   - That will converts PIL images to PyTorch tensors ans scales pixel values        from        [0,255] to [0,1]\n",
    "\n",
    "2. Normalize((0.1307,), (0.3081,)):\n",
    "   - Uses MNIST dataset statistics (mean=0.1307, std=0.3081)\n",
    "   - Normalizes data to have zero mean\n",
    "   - Improves training stability and convergence speed\n",
    "   - Helps prevent vanishing/exploding gradients\n",
    "\n",
    "3. No flattening, in transforms:\n",
    "   - We will handle flattening in the neural network architecture\n",
    "   - Maintains spatial structure until needed\n",
    "   - More flexible for potential CNN architectures\n",
    "\n",
    "4. Batch size of 64:\n",
    "   - Good balance between memery usage and gradient stability\n",
    "   - Allows for efficient GPU utilization\n"
   ]
  },
  {
   "cell_type": "markdown",
   "metadata": {},
   "source": [
    "**DOUBLE CLICK THIS CELL TO MODIFY**"
   ]
  },
  {
   "cell_type": "markdown",
   "metadata": {},
   "source": [
    "## Explore the Dataset\n",
    "Using matplotlib, numpy, and torch, explore the dimensions of your data.\n",
    "\n",
    "You can view images using the `show5` function defined below – it takes a data loader as an argument.\n",
    "Remember that normalized images will look really weird to you! You may want to try changing your transforms to view images.\n",
    "Typically using no transforms other than `toTensor()` works well for viewing – but not as well for training your network.\n",
    "If `show5` doesn't work, go back and check your code for creating your data loaders and your training/test sets."
   ]
  },
  {
   "cell_type": "code",
   "execution_count": 6,
   "metadata": {},
   "outputs": [],
   "source": [
    "## This cell contains a function for showing 5 images from a dataloader – DO NOT CHANGE THE CONTENTS! ##        \n",
    "def show5(img_loader):\n",
    "    dataiter = iter(img_loader)\n",
    "    batch = next(dataiter)\n",
    "    labels = batch[1][0:5]\n",
    "    images = batch[0][0:5]\n",
    "    \n",
    "    fig, axes = plt.subplots(1, 5, figsize=(12, 3))\n",
    "    for i in range(5):\n",
    "        print(f\"Label: {int(labels[i].detach())}\")\n",
    "        image = images[i].numpy()\n",
    "        axes[i].imshow(image.squeeze(), cmap='gray')\n",
    "        axes[i].set_title(f'Label: {int(labels[i])}')\n",
    "        axes[i].axis('off')\n",
    "    plt.tight_layout()\n",
    "    plt.show()"
   ]
  },
  {
   "cell_type": "code",
   "execution_count": 7,
   "metadata": {},
   "outputs": [
    {
     "name": "stdout",
     "output_type": "stream",
     "text": [
      "Dataset Exploration:\n",
      "Image shape: torch.Size([1, 28, 28])\n",
      "Number of classes: 10\n",
      "Classes: ['0 - zero', '1 - one', '2 - two', '3 - three', '4 - four', '5 - five', '6 - six', '7 - seven', '8 - eight', '9 - nine']\n",
      "\n",
      "Sample images from the dataset:\n",
      "Label: 1\n",
      "Label: 2\n",
      "Label: 8\n",
      "Label: 5\n",
      "Label: 2\n"
     ]
    },
    {
     "data": {
      "image/png": "[encoded data removed]",
      "text/plain": [
       "<Figure size 864x216 with 5 Axes>"
      ]
     },
     "metadata": {
      "needs_background": "light"
     },
     "output_type": "display_data"
    },
    {
     "data": {
      "image/png": "[encoded data removed]",
      "text/plain": [
       "<Figure size 720x432 with 1 Axes>"
      ]
     },
     "metadata": {
      "needs_background": "light"
     },
     "output_type": "display_data"
    }
   ],
   "source": [
    "# Explore data dimensions and properties\n",
    "print(\"Dataset Exploration:\")\n",
    "print(f\"Image shape: {train_dataset[0][0].shape}\")\n",
    "print(f\"Number of classes: {len(train_dataset.classes)}\")\n",
    "print(f\"Classes: {train_dataset.classes}\")\n",
    "\n",
    "# Show sample images\n",
    "print(\"\\nSample images from the dataset:\")\n",
    "show5(viz_loader)\n",
    "\n",
    "\n",
    "# Class distribution analysis\n",
    "train_targets = train_dataset.targets.numpy()\n",
    "plt.figure(figsize=(10, 6))\n",
    "plt.hist(train_targets, bins=10, alpha=0.7, edgecolor='black')\n",
    "plt.xlabel('Digit Class')\n",
    "plt.ylabel('Frequency')\n",
    "plt.title('Distribution of Digits in Training Set')\n",
    "plt.xticks(range(10))\n",
    "plt.grid(True, alpha=0.3)\n",
    "plt.show()"
   ]
  },
  {
   "cell_type": "markdown",
   "metadata": {},
   "source": [
    "## Build your Neural Network\n",
    "Using the layers in `torch.nn` (which has been imported as `nn`) and the `torch.nn.functional` module (imported as `F`), construct a neural network based on the parameters of the dataset.\n",
    "Use any architecture you like. \n",
    "\n",
    "*Note*: If you did not flatten your tensors in your transforms or as part of your preprocessing and you are using only `Linear` layers, make sure to use the `Flatten` layer in your network!"
   ]
  },
  {
   "cell_type": "markdown",
   "metadata": {},
   "source": [
    "### NEURAL NETWORK ARCHITECTURE"
   ]
  },
  {
   "cell_type": "code",
   "execution_count": 8,
   "metadata": {},
   "outputs": [],
   "source": [
    "class MNISTClassifier(nn.Module):\n",
    "    \"\"\"\n",
    "    MNIST Classifier with multiple hidden layers and dropout regularization.\n",
    "    \n",
    "    Architecture:\n",
    "    - Input: 28x28 grayscale images (784 features after flattening)\n",
    "    - Hidden layers: 512 -> 256 -> 128 neurons with ReLU activation\n",
    "    - Dropout regularization to prevent overfitting\n",
    "    - Output: 10 classes with softmax activation\n",
    "    \"\"\"\n",
    "    \n",
    "    def __init__(self, input_size=784, hidden_sizes=[512, 256, 128], num_classes=10, dropout_rate=0.3):\n",
    "        super(MNISTClassifier, self).__init__()\n",
    "        \n",
    "        # Flatten layer for converting 2D images to 1D\n",
    "        self.flatten = nn.Flatten()\n",
    "        \n",
    "        # First hidden layer\n",
    "        self.fc1 = nn.Linear(input_size, hidden_sizes[0])\n",
    "        self.dropout1 = nn.Dropout(dropout_rate)\n",
    "        \n",
    "        # Second hidden layer\n",
    "        self.fc2 = nn.Linear(hidden_sizes[0], hidden_sizes[1])\n",
    "        self.dropout2 = nn.Dropout(dropout_rate)\n",
    "        \n",
    "        # Third hidden layer\n",
    "        self.fc3 = nn.Linear(hidden_sizes[1], hidden_sizes[2])\n",
    "        self.dropout3 = nn.Dropout(dropout_rate)\n",
    "        \n",
    "        # Output layer\n",
    "        self.fc4 = nn.Linear(hidden_sizes[2], num_classes)\n",
    "        \n",
    "        # Initialize weights using Xavier initialization\n",
    "        self._initialize_weights()\n",
    "        \n",
    "    def _initialize_weights(self):\n",
    "        \"\"\"Initialize weights using Xavier initialization for better convergence.\"\"\"\n",
    "        for module in self.modules():\n",
    "            if isinstance(module, nn.Linear):\n",
    "                nn.init.xavier_uniform_(module.weight)\n",
    "                nn.init.constant_(module.bias, 0)\n",
    "                \n",
    "    def forward(self, x):\n",
    "        # Flatten the input\n",
    "        x = self.flatten(x)\n",
    "        \n",
    "        # First hidden layer with ReLU and dropout\n",
    "        x = F.relu(self.fc1(x))\n",
    "        x = self.dropout1(x)\n",
    "        \n",
    "        # Second hidden layer with ReLU and dropout\n",
    "        x = F.relu(self.fc2(x))\n",
    "        x = self.dropout2(x)\n",
    "        \n",
    "        # Third hidden layer with ReLU and dropout\n",
    "        x = F.relu(self.fc3(x))\n",
    "        x = self.dropout3(x)\n",
    "        \n",
    "        # Output layer with softmax (applied in training loop)\n",
    "        x = self.fc4(x)\n",
    "        \n",
    "        return x"
   ]
  },
  {
   "cell_type": "markdown",
   "metadata": {},
   "source": [
    "Specify a loss function and an optimizer, and instantiate the model.\n",
    "\n",
    "If you use a less common loss function, please note why you chose that loss function in a comment."
   ]
  },
  {
   "cell_type": "markdown",
   "metadata": {},
   "source": [
    "### MODEL INSTANTIATION AND CONFIGURATION"
   ]
  },
  {
   "cell_type": "code",
   "execution_count": 9,
   "metadata": {},
   "outputs": [
    {
     "name": "stdout",
     "output_type": "stream",
     "text": [
      "Model architecture:\n",
      "MNISTClassifier(\n",
      "  (flatten): Flatten(start_dim=1, end_dim=-1)\n",
      "  (fc1): Linear(in_features=784, out_features=512, bias=True)\n",
      "  (dropout1): Dropout(p=0.3, inplace=False)\n",
      "  (fc2): Linear(in_features=512, out_features=256, bias=True)\n",
      "  (dropout2): Dropout(p=0.3, inplace=False)\n",
      "  (fc3): Linear(in_features=256, out_features=128, bias=True)\n",
      "  (dropout3): Dropout(p=0.3, inplace=False)\n",
      "  (fc4): Linear(in_features=128, out_features=10, bias=True)\n",
      ")\n",
      "Base Model Parameters: 567,434\n"
     ]
    }
   ],
   "source": [
    "# Instantiate the model\n",
    "base_model = MNISTClassifier().to(device)\n",
    "\n",
    "# Loss function: CrossEntropyLoss is ideal for multi-class classification\n",
    "# It combines LogSoftmax and NLLLoss, providing numerical stability\n",
    "base_criterion = nn.CrossEntropyLoss()\n",
    "\n",
    "# Optimizer: Adam with learning rate scheduling\n",
    "base_optimizer = optim.Adam(base_model.parameters(), lr=0.001, weight_decay=1e-4)\n",
    "\n",
    "# Learning rate scheduler for better convergence\n",
    "base_scheduler = optim.lr_scheduler.StepLR(base_optimizer, step_size=10, gamma=0.7)\n",
    "\n",
    "print(f\"Model architecture:\\n{base_model}\")\n",
    "print(f\"Base Model Parameters: {sum(p.numel() for p in base_model.parameters()):,}\")"
   ]
  },
  {
   "cell_type": "markdown",
   "metadata": {},
   "source": [
    "## Running your Neural Network\n",
    "Use whatever method you like to train your neural network, and ensure you record the average loss at each epoch. \n",
    "Don't forget to use `torch.device()` and the `.to()` method for both your model and your data if you are using GPU!\n",
    "\n",
    "If you want to print your loss **during** each epoch, you can use the `enumerate` function and print the loss after a set number of batches. 250 batches works well for most people!"
   ]
  },
  {
   "cell_type": "markdown",
   "metadata": {},
   "source": [
    "### TRAINING FUNCTION"
   ]
  },
  {
   "cell_type": "code",
   "execution_count": 10,
   "metadata": {},
   "outputs": [],
   "source": [
    "def train_model(model, train_loader, val_loader, criterion, optimizer, scheduler, num_epochs=10):\n",
    "    \"\"\"\n",
    "    Training function with validation at each epoch for overfitting detection.\n",
    "    \"\"\"\n",
    "    \n",
    "    model.train()\n",
    "    \n",
    "    # Track metrics for both training and validation\n",
    "    train_losses = []\n",
    "    train_accuracies = []\n",
    "    val_losses = []\n",
    "    val_accuracies = []\n",
    "    \n",
    "    print(\"Starting training with validation...\")\n",
    "    print(\"=\" * 70)\n",
    "    \n",
    "    for epoch in range(num_epochs):\n",
    "        # ==========================================\n",
    "        # TRAINING PHASE\n",
    "        # ==========================================\n",
    "        \n",
    "        model.train() \n",
    "        \n",
    "        running_train_loss = 0.0\n",
    "        train_correct = 0\n",
    "        train_total = 0\n",
    "        \n",
    "        # Progress bar for each epoch\n",
    "        train_pbar = tqdm(train_loader, desc=f'Epoch {epoch+1}/{num_epochs} [Train]')\n",
    "        \n",
    "        for batch_idx, (data, targets) in enumerate(train_pbar):\n",
    "            # Move data to device\n",
    "            data, targets = data.to(device), targets.to(device)\n",
    "            \n",
    "            # Zero gradients\n",
    "            optimizer.zero_grad()\n",
    "            \n",
    "            # Forward pass\n",
    "            outputs = model(data)\n",
    "            loss = criterion(outputs, targets)\n",
    "            \n",
    "            # Backward pass and optimization\n",
    "            loss.backward()\n",
    "            optimizer.step()\n",
    "            \n",
    "            # Statistics\n",
    "            running_train_loss += loss.item()\n",
    "            _, predicted = torch.max(outputs.data, 1)\n",
    "            train_total += targets.size(0)\n",
    "            train_correct += (predicted == targets).sum().item()\n",
    "            \n",
    "            # Update progress bar\n",
    "            if batch_idx % 100 == 0:\n",
    "                current_acc = 100. * train_correct / train_total\n",
    "                train_pbar.set_postfix({\n",
    "                    'Loss': f'{running_train_loss/(batch_idx+1):.4f}',\n",
    "                    'Acc': f'{current_acc:.2f}%'\n",
    "                })\n",
    "        \n",
    "        # Calculate training metrics for this epoch\n",
    "        epoch_train_loss = running_train_loss / len(train_loader)\n",
    "        epoch_train_acc = 100. * train_correct / train_total\n",
    "        \n",
    "        # ==========================================\n",
    "        # VALIDATION PHASE\n",
    "        # ==========================================\n",
    "        model.eval()  # Set to evaluation mode\n",
    "        running_val_loss = 0.0\n",
    "        val_correct = 0\n",
    "        val_total = 0\n",
    "        val_batches_processed = 0  \n",
    "        \n",
    "        with torch.no_grad():  # No gradients needed for validation\n",
    "            val_pbar = tqdm(val_loader, desc=f'Epoch {epoch+1}/{num_epochs} [Val]  ')\n",
    "            \n",
    "            for data, targets in val_pbar:\n",
    "                data, targets = data.to(device), targets.to(device)\n",
    "                \n",
    "                # Forward pass only\n",
    "                outputs = model(data)\n",
    "                loss = criterion(outputs, targets)\n",
    "                \n",
    "                # Statistics\n",
    "                running_val_loss += loss.item()\n",
    "                _, predicted = torch.max(outputs, 1)\n",
    "                val_total += targets.size(0)\n",
    "                val_correct += (predicted == targets).sum().item()\n",
    "                val_batches_processed += 1\n",
    "                \n",
    "                # Update progress bar\n",
    "                current_val_acc = 100. * val_correct / val_total\n",
    "                val_pbar.set_postfix({\n",
    "                    'Loss': f'{running_val_loss/val_batches_processed:.4f}',\n",
    "                    'Acc': f'{current_val_acc:.2f}%'\n",
    "                })\n",
    "                \n",
    "        # Calculate validation metrics for this epoch\n",
    "        epoch_val_loss = running_val_loss / len(val_loader)\n",
    "        epoch_val_acc = 100. * val_correct / val_total\n",
    "        \n",
    "        # Store metrics\n",
    "        train_losses.append(epoch_train_loss)\n",
    "        train_accuracies.append(epoch_train_acc)\n",
    "        val_losses.append(epoch_val_loss)\n",
    "        val_accuracies.append(epoch_val_acc)\n",
    "        \n",
    "        # Step the scheduler\n",
    "        if scheduler:\n",
    "            scheduler.step()\n",
    "        \n",
    "        # Print epoch summary\n",
    "        print(f'Epoch [{epoch+1:2d}/{num_epochs}] | '\n",
    "              f'Train Loss: {epoch_train_loss:.4f} | Train Acc: {epoch_train_acc:6.2f}% | '\n",
    "              f'Val Loss: {epoch_val_loss:.4f} | Val Acc: {epoch_val_acc:6.2f}%')\n",
    "    \n",
    "    print(\"=\" * 70)\n",
    "    print(\"Training completed!\")\n",
    "    \n",
    "    # Print final summary\n",
    "    print(f\"\\n📊 Final Results:\")\n",
    "    print(f\"   Training   - Loss: {train_losses[-1]:.4f}, Accuracy: {train_accuracies[-1]:.2f}%\")\n",
    "    print(f\"   Validation - Loss: {val_losses[-1]:.4f}, Accuracy: {val_accuracies[-1]:.2f}%\")\n",
    "    \n",
    "    return train_losses, train_accuracies, val_losses, val_accuracies"
   ]
  },
  {
   "cell_type": "markdown",
   "metadata": {},
   "source": [
    "### PLOT TRAINING METRICS FUNCTION"
   ]
  },
  {
   "cell_type": "code",
   "execution_count": 11,
   "metadata": {},
   "outputs": [],
   "source": [
    "def plot_training_validation_curves(train_losses, train_accuracies, val_losses, val_accuracies,\n",
    "                                   model_name=\"Model\", figsize=(15, 5)):\n",
    "    \"\"\"\n",
    "    Plot training and validation curves to detect overfitting.\n",
    "    \"\"\"\n",
    "        \n",
    "    # Clear any existing plots to prevent duplicates\n",
    "    plt.close('all')\n",
    "    \n",
    "    \n",
    "    fig, (ax1, ax2) = plt.subplots(1, 2, figsize=figsize)\n",
    "    epochs = range(1, len(train_losses) + 1)\n",
    "    \n",
    "    # ===============================\n",
    "    # LOSS PLOT (Training vs Validation)\n",
    "    # ===============================\n",
    "    ax1.plot(epochs, train_losses, 'b-', linewidth=2.5, label='Training Loss', marker='o', markersize=4)\n",
    "    ax1.plot(epochs, val_losses, 'r-', linewidth=2.5, label='Validation Loss', marker='s', markersize=4)\n",
    "    \n",
    "    ax1.set_title(f'{model_name} - Training & Validation Loss', fontsize=14, fontweight='bold', pad=15)\n",
    "    ax1.set_xlabel('Epoch', fontsize=12)\n",
    "    ax1.set_ylabel('Loss', fontsize=12)\n",
    "    ax1.grid(True, alpha=0.3, linestyle='--')\n",
    "    ax1.legend(fontsize=11, loc='best')\n",
    "    \n",
    "    ax1.spines['top'].set_visible(False)\n",
    "    ax1.spines['right'].set_visible(False)\n",
    "    ax1.set_xlim(1, len(train_losses))\n",
    "    \n",
    "    # Add annotations for minimum losses\n",
    "    min_train_loss = min(train_losses)\n",
    "    min_train_epoch = train_losses.index(min_train_loss) + 1\n",
    "    min_val_loss = min(val_losses)\n",
    "    min_val_epoch = val_losses.index(min_val_loss) + 1\n",
    "    \n",
    "    ax1.annotate(f'Min Train: {min_train_loss:.4f}', \n",
    "                xy=(min_train_epoch, min_train_loss), \n",
    "                xytext=(10, 10), textcoords='offset points',\n",
    "                bbox=dict(boxstyle='round,pad=0.3', facecolor='blue', alpha=0.3),\n",
    "                fontsize=9)\n",
    "    \n",
    "    ax1.annotate(f'Min Val: {min_val_loss:.4f}', \n",
    "                xy=(min_val_epoch, min_val_loss), \n",
    "                xytext=(10, -15), textcoords='offset points',\n",
    "                bbox=dict(boxstyle='round,pad=0.3', facecolor='red', alpha=0.3),\n",
    "                fontsize=9)\n",
    "    \n",
    "    # ===============================\n",
    "    # ACCURACY PLOT (Training vs Validation)\n",
    "    # ===============================\n",
    "    ax2.plot(epochs, train_accuracies, 'g-', linewidth=2.5, label='Training Accuracy', marker='o', markersize=4)\n",
    "    ax2.plot(epochs, val_accuracies, 'orange', linewidth=2.5, label='Validation Accuracy', marker='s', markersize=4)\n",
    "    \n",
    "    ax2.set_title(f'{model_name} - Training & Validation Accuracy', fontsize=14, fontweight='bold', pad=15)\n",
    "    ax2.set_xlabel('Epoch', fontsize=12)\n",
    "    ax2.set_ylabel('Accuracy (%)', fontsize=12)\n",
    "    ax2.grid(True, alpha=0.3, linestyle='--')\n",
    "    ax2.legend(fontsize=11, loc='best')\n",
    "    \n",
    "    ax2.spines['top'].set_visible(False)\n",
    "    ax2.spines['right'].set_visible(False)\n",
    "    ax2.set_xlim(1, len(train_accuracies))\n",
    "    ax2.set_ylim(0, 100)\n",
    "    \n",
    "    # Add annotations for maximum accuracies\n",
    "    max_train_acc = max(train_accuracies)\n",
    "    max_train_epoch = train_accuracies.index(max_train_acc) + 1\n",
    "    max_val_acc = max(val_accuracies)\n",
    "    max_val_epoch = val_accuracies.index(max_val_acc) + 1\n",
    "    \n",
    "    ax2.annotate(f'Max Train: {max_train_acc:.2f}%', \n",
    "                xy=(max_train_epoch, max_train_acc), \n",
    "                xytext=(10, -15), textcoords='offset points',\n",
    "                bbox=dict(boxstyle='round,pad=0.3', facecolor='green', alpha=0.3),\n",
    "                fontsize=9)\n",
    "    \n",
    "    ax2.annotate(f'Max Val: {max_val_acc:.2f}%', \n",
    "                xy=(max_val_epoch, max_val_acc), \n",
    "                xytext=(10, 10), textcoords='offset points',\n",
    "                bbox=dict(boxstyle='round,pad=0.3', facecolor='orange', alpha=0.3),\n",
    "                fontsize=9)\n",
    "    \n",
    "    plt.tight_layout(pad=3.0) \n",
    "    \n",
    "    plt.show()"
   ]
  },
  {
   "cell_type": "markdown",
   "metadata": {},
   "source": [
    "### PLOT CONFUSION MATRIX FUNCTION"
   ]
  },
  {
   "cell_type": "code",
   "execution_count": 12,
   "metadata": {},
   "outputs": [],
   "source": [
    "def plot_confusion_matrix(y_true: Union[List, np.ndarray], \n",
    "                         y_pred: Union[List, np.ndarray],\n",
    "                         class_names: Optional[List[str]] = None,\n",
    "                         model_name: str = \"Model\",\n",
    "                         normalize: bool = False,\n",
    "                         figsize: Tuple[int, int] = (12, 10),  \n",
    "                         cmap: str = 'Blues') -> plt.Figure:\n",
    "\n",
    "    \n",
    "    # Clear any existing plots\n",
    "    plt.close('all')\n",
    "    \n",
    "    # Convert to numpy arrays if needed\n",
    "    y_true = np.array(y_true)\n",
    "    y_pred = np.array(y_pred)\n",
    "    \n",
    "    # Create confusion matrix\n",
    "    cm = confusion_matrix(y_true, y_pred)\n",
    "    \n",
    "    # Normalize if requested\n",
    "    if normalize:\n",
    "        cm = cm.astype('float') / cm.sum(axis=1)[:, np.newaxis]\n",
    "        fmt = '.2f'\n",
    "        title_suffix = ' (Normalized)'\n",
    "    else:\n",
    "        fmt = 'd'\n",
    "        title_suffix = ''\n",
    "    \n",
    "    # Set up class names\n",
    "    if class_names is None:\n",
    "        class_names = [str(i) for i in range(cm.shape[0])]\n",
    "    \n",
    "    # Create figure with extra space for text\n",
    "    fig, ax = plt.subplots(figsize=figsize)\n",
    "    \n",
    "    # Create heatmap\n",
    "    im = sns.heatmap(cm, \n",
    "                     annot=True, \n",
    "                     fmt=fmt, \n",
    "                     cmap=cmap,\n",
    "                     xticklabels=class_names,\n",
    "                     yticklabels=class_names,\n",
    "                     cbar_kws={'label': 'Normalized Count' if normalize else 'Count'},\n",
    "                     ax=ax,\n",
    "                     square=True,\n",
    "                     linewidths=0.5,\n",
    "                     cbar=True)\n",
    "    \n",
    "    # Customize plot\n",
    "    ax.set_title(f'{model_name} - Confusion Matrix{title_suffix}', \n",
    "                fontsize=16, fontweight='bold', pad=25)  \n",
    "    ax.set_xlabel('Predicted Label', fontsize=14, labelpad=15)\n",
    "    ax.set_ylabel('True Label', fontsize=14, labelpad=15)\n",
    "    \n",
    "    # Rotate labels for better readability\n",
    "    plt.setp(ax.get_xticklabels(), rotation=0, ha=\"center\")\n",
    "    plt.setp(ax.get_yticklabels(), rotation=0, ha=\"right\")\n",
    "    \n",
    "    # Calculate accuracy and statistics\n",
    "    total_samples = np.sum(cm)\n",
    "    correct_predictions = np.trace(cm)\n",
    "    accuracy = (correct_predictions / total_samples) * 100\n",
    "    \n",
    "    # Overall accuracy - top left, outside plot area\n",
    "    accuracy_text = f'Overall Accuracy: {accuracy:.2f}%'\n",
    "    fig.text(0.02, 0.95, accuracy_text, fontsize=14, fontweight='bold',\n",
    "             bbox=dict(boxstyle='round,pad=0.5', facecolor='lightblue', alpha=0.8, edgecolor='navy'),\n",
    "             verticalalignment='top')\n",
    "    \n",
    "    # Sample count - top right, outside plot area\n",
    "    if not normalize:\n",
    "        count_text = f'Correct: {correct_predictions:,}/{total_samples:,}'\n",
    "        fig.text(0.98, 0.95, count_text, fontsize=12,\n",
    "                 bbox=dict(boxstyle='round,pad=0.5', facecolor='lightgreen', alpha=0.8, edgecolor='darkgreen'),\n",
    "                 verticalalignment='top', horizontalalignment='right')\n",
    "    \n",
    "    # ===============================\n",
    "    # PERFORMANCE BREAKDOWN\n",
    "    # ===============================\n",
    "    \n",
    "    # Calculate per-class accuracy for additional insights\n",
    "    per_class_accuracy = []\n",
    "    for i in range(cm.shape[0]):\n",
    "        if cm[i].sum() > 0:  \n",
    "            class_acc = cm[i, i] / cm[i].sum() * 100\n",
    "            per_class_accuracy.append(class_acc)\n",
    "        else:\n",
    "            per_class_accuracy.append(0.0)\n",
    "    \n",
    "    # Find best and worst performing classes\n",
    "    best_class = np.argmax(per_class_accuracy)\n",
    "    worst_class = np.argmin(per_class_accuracy)\n",
    "    \n",
    "    # Add performance insights at the bottom\n",
    "    insights_text = (f'Best: Digit {best_class} ({per_class_accuracy[best_class]:.1f}%) | '\n",
    "                    f'Worst: Digit {worst_class} ({per_class_accuracy[worst_class]:.1f}%) | '\n",
    "                    f'Avg: {np.mean(per_class_accuracy):.1f}%')\n",
    "    \n",
    "    fig.text(0.5, 0.02, insights_text, fontsize=11,\n",
    "             bbox=dict(boxstyle='round,pad=0.5', facecolor='lightyellow', alpha=0.8, edgecolor='orange'),\n",
    "             horizontalalignment='center', verticalalignment='bottom')\n",
    "    \n",
    "    # Adjust layout to accommodate external text\n",
    "    plt.subplots_adjust(top=0.85, bottom=0.15, left=0.1, right=0.9)\n",
    "    \n",
    "    plt.show()"
   ]
  },
  {
   "cell_type": "markdown",
   "metadata": {},
   "source": [
    "### PLOT MODEL COMPARISON FUNCTION"
   ]
  },
  {
   "cell_type": "code",
   "execution_count": 44,
   "metadata": {},
   "outputs": [],
   "source": [
    "def plot_model_comparison(models_data: dict,\n",
    "                         metric: str = 'accuracy',\n",
    "                         figsize: Tuple[int, int] = (12, 6)):  \n",
    "    \n",
    "    model_names = list(models_data.keys())\n",
    "    values = [models_data[name][metric] for name in model_names]\n",
    "    \n",
    "    # Create figure\n",
    "    fig, ax = plt.subplots(figsize=figsize)\n",
    "    \n",
    "    # Color scheme\n",
    "    colors = ['#3498db', '#e74c3c', '#2ecc71', '#f39c12', '#9b59b6']\n",
    "    bar_colors = colors[:len(model_names)]\n",
    "    \n",
    "    # Create bars\n",
    "    bars = ax.bar(model_names, values, color=bar_colors, alpha=0.8, edgecolor='black', linewidth=1)\n",
    "    \n",
    "    # Customize plot\n",
    "    metric_labels = {\n",
    "        'accuracy': 'Accuracy (%)',\n",
    "        'loss': 'Loss',\n",
    "        'params': 'Parameters (Millions)'\n",
    "    }\n",
    "    \n",
    "    ax.set_title(f'Model Comparison - {metric_labels.get(metric, metric.title())}', \n",
    "                fontsize=16, fontweight='bold', pad=20)\n",
    "    ax.set_ylabel(metric_labels.get(metric, metric.title()), fontsize=14)\n",
    "    ax.set_xlabel('Models', fontsize=14)\n",
    "    \n",
    "    # Add value labels on bars\n",
    "    for bar, value in zip(bars, values):\n",
    "        height = bar.get_height()\n",
    "        if metric == 'params':\n",
    "            label = f'{value/1000000:.1f}M'\n",
    "        elif metric == 'accuracy':\n",
    "            label = f'{value:.2f}%'\n",
    "        else:\n",
    "            label = f'{value:.3f}'\n",
    "            \n",
    "        ax.text(bar.get_x() + bar.get_width()/2., height + max(values)*0.01,\n",
    "                label, ha='center', va='bottom', fontweight='bold', fontsize=11)\n",
    "    \n",
    "    # Styling\n",
    "    ax.grid(True, alpha=0.3, axis='y')\n",
    "    ax.spines['top'].set_visible(False)\n",
    "    ax.spines['right'].set_visible(False)\n",
    "    \n",
    "    # Adjust y-axis\n",
    "    if metric == 'accuracy':\n",
    "        ax.set_ylim(0, 100)\n",
    "    else:\n",
    "        ax.set_ylim(0, max(values) * 1.1)\n",
    "    \n",
    "    plt.xticks(rotation=15, ha='right')\n",
    "    plt.tight_layout()\n",
    "    plt.show()"
   ]
  },
  {
   "cell_type": "markdown",
   "metadata": {},
   "source": [
    "### BASE MODEL TRAINING"
   ]
  },
  {
   "cell_type": "code",
   "execution_count": 15,
   "metadata": {},
   "outputs": [
    {
     "name": "stdout",
     "output_type": "stream",
     "text": [
      "Starting training with validation...\n",
      "======================================================================\n"
     ]
    },
    {
     "name": "stderr",
     "output_type": "stream",
     "text": [
      "Epoch 1/10 [Train]: 100%|██████████| 938/938 [00:18<00:00, 50.50it/s, Loss=0.3551, Acc=89.16%]\n",
      "Epoch 1/10 [Val]  : 100%|██████████| 157/157 [00:04<00:00, 32.47it/s, Loss=0.1353, Acc=95.78%]\n"
     ]
    },
    {
     "name": "stdout",
     "output_type": "stream",
     "text": [
      "Epoch [ 1/10] | Train Loss: 0.3488 | Train Acc:  89.35% | Val Loss: 0.1353 | Val Acc:  95.78%\n"
     ]
    },
    {
     "name": "stderr",
     "output_type": "stream",
     "text": [
      "Epoch 2/10 [Train]: 100%|██████████| 938/938 [00:18<00:00, 51.10it/s, Loss=0.1798, Acc=94.79%]\n",
      "Epoch 2/10 [Val]  : 100%|██████████| 157/157 [00:03<00:00, 40.23it/s, Loss=0.1122, Acc=96.88%]\n"
     ]
    },
    {
     "name": "stdout",
     "output_type": "stream",
     "text": [
      "Epoch [ 2/10] | Train Loss: 0.1775 | Train Acc:  94.85% | Val Loss: 0.1122 | Val Acc:  96.88%\n"
     ]
    },
    {
     "name": "stderr",
     "output_type": "stream",
     "text": [
      "Epoch 3/10 [Train]: 100%|██████████| 938/938 [00:18<00:00, 51.52it/s, Loss=0.1372, Acc=96.03%]\n",
      "Epoch 3/10 [Val]  : 100%|██████████| 157/157 [00:04<00:00, 38.20it/s, Loss=0.1026, Acc=97.02%]\n"
     ]
    },
    {
     "name": "stdout",
     "output_type": "stream",
     "text": [
      "Epoch [ 3/10] | Train Loss: 0.1376 | Train Acc:  96.01% | Val Loss: 0.1026 | Val Acc:  97.02%\n"
     ]
    },
    {
     "name": "stderr",
     "output_type": "stream",
     "text": [
      "Epoch 4/10 [Train]: 100%|██████████| 938/938 [00:17<00:00, 52.20it/s, Loss=0.1237, Acc=96.32%]\n",
      "Epoch 4/10 [Val]  : 100%|██████████| 157/157 [00:04<00:00, 36.25it/s, Loss=0.0992, Acc=97.21%]\n"
     ]
    },
    {
     "name": "stdout",
     "output_type": "stream",
     "text": [
      "Epoch [ 4/10] | Train Loss: 0.1233 | Train Acc:  96.31% | Val Loss: 0.0992 | Val Acc:  97.21%\n"
     ]
    },
    {
     "name": "stderr",
     "output_type": "stream",
     "text": [
      "Epoch 5/10 [Train]: 100%|██████████| 938/938 [00:18<00:00, 50.45it/s, Loss=0.1101, Acc=96.84%]\n",
      "Epoch 5/10 [Val]  : 100%|██████████| 157/157 [00:04<00:00, 38.40it/s, Loss=0.0789, Acc=97.67%]\n"
     ]
    },
    {
     "name": "stdout",
     "output_type": "stream",
     "text": [
      "Epoch [ 5/10] | Train Loss: 0.1096 | Train Acc:  96.85% | Val Loss: 0.0789 | Val Acc:  97.67%\n"
     ]
    },
    {
     "name": "stderr",
     "output_type": "stream",
     "text": [
      "Epoch 6/10 [Train]: 100%|██████████| 938/938 [00:18<00:00, 50.64it/s, Loss=0.0972, Acc=97.10%]\n",
      "Epoch 6/10 [Val]  : 100%|██████████| 157/157 [00:03<00:00, 41.61it/s, Loss=0.0891, Acc=97.34%]\n"
     ]
    },
    {
     "name": "stdout",
     "output_type": "stream",
     "text": [
      "Epoch [ 6/10] | Train Loss: 0.0973 | Train Acc:  97.10% | Val Loss: 0.0891 | Val Acc:  97.34%\n"
     ]
    },
    {
     "name": "stderr",
     "output_type": "stream",
     "text": [
      "Epoch 7/10 [Train]: 100%|██████████| 938/938 [00:17<00:00, 52.38it/s, Loss=0.0913, Acc=97.38%]\n",
      "Epoch 7/10 [Val]  : 100%|██████████| 157/157 [00:04<00:00, 37.65it/s, Loss=0.0825, Acc=97.73%]\n"
     ]
    },
    {
     "name": "stdout",
     "output_type": "stream",
     "text": [
      "Epoch [ 7/10] | Train Loss: 0.0920 | Train Acc:  97.38% | Val Loss: 0.0825 | Val Acc:  97.73%\n"
     ]
    },
    {
     "name": "stderr",
     "output_type": "stream",
     "text": [
      "Epoch 8/10 [Train]: 100%|██████████| 938/938 [00:18<00:00, 51.44it/s, Loss=0.0862, Acc=97.41%]\n",
      "Epoch 8/10 [Val]  : 100%|██████████| 157/157 [00:04<00:00, 36.86it/s, Loss=0.0765, Acc=97.85%]\n"
     ]
    },
    {
     "name": "stdout",
     "output_type": "stream",
     "text": [
      "Epoch [ 8/10] | Train Loss: 0.0862 | Train Acc:  97.41% | Val Loss: 0.0765 | Val Acc:  97.85%\n"
     ]
    },
    {
     "name": "stderr",
     "output_type": "stream",
     "text": [
      "Epoch 9/10 [Train]: 100%|██████████| 938/938 [00:19<00:00, 49.28it/s, Loss=0.0867, Acc=97.50%]\n",
      "Epoch 9/10 [Val]  : 100%|██████████| 157/157 [00:04<00:00, 35.90it/s, Loss=0.0828, Acc=97.62%]\n"
     ]
    },
    {
     "name": "stdout",
     "output_type": "stream",
     "text": [
      "Epoch [ 9/10] | Train Loss: 0.0864 | Train Acc:  97.50% | Val Loss: 0.0828 | Val Acc:  97.62%\n"
     ]
    },
    {
     "name": "stderr",
     "output_type": "stream",
     "text": [
      "Epoch 10/10 [Train]: 100%|██████████| 938/938 [00:18<00:00, 51.24it/s, Loss=0.0812, Acc=97.64%]\n",
      "Epoch 10/10 [Val]  : 100%|██████████| 157/157 [00:04<00:00, 33.32it/s, Loss=0.0745, Acc=97.97%]"
     ]
    },
    {
     "name": "stdout",
     "output_type": "stream",
     "text": [
      "Epoch [10/10] | Train Loss: 0.0804 | Train Acc:  97.66% | Val Loss: 0.0745 | Val Acc:  97.97%\n",
      "======================================================================\n",
      "Training completed!\n",
      "\n",
      "📊 Final Results:\n",
      "   Training   - Loss: 0.0804, Accuracy: 97.66%\n",
      "   Validation - Loss: 0.0745, Accuracy: 97.97%\n"
     ]
    },
    {
     "name": "stderr",
     "output_type": "stream",
     "text": [
      "\n"
     ]
    }
   ],
   "source": [
    "# Train base model with validation\n",
    "base_train_losses, base_train_accs, base_val_losses, base_val_accs = train_model(\n",
    "    base_model, train_loader, test_loader, base_criterion, base_optimizer, base_scheduler, num_epochs=10\n",
    ")"
   ]
  },
  {
   "cell_type": "markdown",
   "metadata": {},
   "source": [
    "### TRAINING VISUALIZATION"
   ]
  },
  {
   "cell_type": "markdown",
   "metadata": {},
   "source": [
    "Plot the training loss (and validation loss/accuracy, if recorded)."
   ]
  },
  {
   "cell_type": "code",
   "execution_count": 16,
   "metadata": {},
   "outputs": [
    {
     "name": "stdout",
     "output_type": "stream",
     "text": [
      "\n",
      "📊 Base Model Training & Validation Curves:\n"
     ]
    },
    {
     "data": {
      "image/png": "[encoded data removed]",
      "text/plain": [
       "<Figure size 1080x360 with 2 Axes>"
      ]
     },
     "metadata": {
      "needs_background": "light"
     },
     "output_type": "display_data"
    }
   ],
   "source": [
    "# Plot training and validation curves\n",
    "print(\"\\n📊 Base Model Training & Validation Curves:\")\n",
    "plot_training_validation_curves(base_train_losses, base_train_accs, base_val_losses, base_val_accs,\n",
    "                               model_name=\"Base MNIST Model\")"
   ]
  },
  {
   "cell_type": "markdown",
   "metadata": {},
   "source": [
    "## Testing your model\n",
    "Using the previously created `DataLoader` for the test set, compute the percentage of correct predictions using the highest probability prediction. \n",
    "\n",
    "If your accuracy is over 90%, great work, but see if you can push a bit further! \n",
    "If your accuracy is under 90%, you'll need to make improvements.\n",
    "Go back and check your model architecture, loss function, and optimizer to make sure they're appropriate for an image classification task."
   ]
  },
  {
   "cell_type": "markdown",
   "metadata": {},
   "source": [
    "### MODEL EVALUATION"
   ]
  },
  {
   "cell_type": "code",
   "execution_count": 25,
   "metadata": {},
   "outputs": [],
   "source": [
    "def evaluate_model(model, test_loader, criterion):\n",
    "    \"\"\"\n",
    "    Comprehensive model evaluation with detailed metrics.\n",
    "    \"\"\"\n",
    "    model.eval()\n",
    "    test_loss = 0.0\n",
    "    correct_predictions = 0\n",
    "    total_samples = 0\n",
    "    class_correct = list(0. for i in range(10))\n",
    "    class_total = list(0. for i in range(10))\n",
    "    \n",
    "    all_predictions = []\n",
    "    all_targets = []\n",
    "    \n",
    "    with torch.no_grad():\n",
    "        for data, targets in tqdm(test_loader, desc='Evaluating'):\n",
    "            data, targets = data.to(device), targets.to(device)\n",
    "            \n",
    "            outputs = model(data)\n",
    "            loss = criterion(outputs, targets)\n",
    "            test_loss += loss.item()\n",
    "            \n",
    "            _, predicted = torch.max(outputs, 1)\n",
    "            total_samples += targets.size(0)\n",
    "            correct_predictions += (predicted == targets).sum().item()\n",
    "            \n",
    "            # Per-class accuracy\n",
    "            c = (predicted == targets).squeeze()\n",
    "            for i in range(targets.size(0)):\n",
    "                label = targets[i]\n",
    "                class_correct[label] += c[i].item()\n",
    "                class_total[label] += 1\n",
    "            \n",
    "            all_predictions.extend(predicted.cpu().numpy())\n",
    "            all_targets.extend(targets.cpu().numpy())\n",
    "    \n",
    "    # Calculate metrics\n",
    "    test_loss /= len(test_loader)\n",
    "    test_accuracy = 100. * correct_predictions / total_samples\n",
    "    \n",
    "    print(f'Test Results:')\n",
    "    print(f'Average Loss: {test_loss:.4f}')\n",
    "    print(f'Overall Accuracy: {test_accuracy:.2f}% ({correct_predictions}/{total_samples})')\n",
    "    print('\\nPer-class Accuracy:')\n",
    "    \n",
    "    for i in range(10):\n",
    "        if class_total[i] > 0:\n",
    "            accuracy = 100 * class_correct[i] / class_total[i]\n",
    "            print(f'Digit {i}: {accuracy:.2f}% ({int(class_correct[i])}/{int(class_total[i])})')\n",
    "    \n",
    "    return test_accuracy, all_predictions, all_targets"
   ]
  },
  {
   "cell_type": "code",
   "execution_count": 26,
   "metadata": {},
   "outputs": [
    {
     "name": "stderr",
     "output_type": "stream",
     "text": [
      "Evaluating: 100%|██████████| 157/157 [00:04<00:00, 38.66it/s]"
     ]
    },
    {
     "name": "stdout",
     "output_type": "stream",
     "text": [
      "Test Results:\n",
      "Average Loss: 0.0745\n",
      "Overall Accuracy: 97.97% (9797/10000)\n",
      "\n",
      "Per-class Accuracy:\n",
      "Digit 0: 99.29% (973/980)\n",
      "Digit 1: 99.38% (1128/1135)\n",
      "Digit 2: 97.97% (1011/1032)\n",
      "Digit 3: 97.62% (986/1010)\n",
      "Digit 4: 97.66% (959/982)\n",
      "Digit 5: 98.32% (877/892)\n",
      "Digit 6: 98.23% (941/958)\n",
      "Digit 7: 98.54% (1013/1028)\n",
      "Digit 8: 96.30% (938/974)\n",
      "Digit 9: 96.23% (971/1009)\n"
     ]
    },
    {
     "name": "stderr",
     "output_type": "stream",
     "text": [
      "\n"
     ]
    }
   ],
   "source": [
    "# Evaluate the base model\n",
    "base_accuracy, predictions, targets = evaluate_model(base_model, test_loader, base_criterion)"
   ]
  },
  {
   "cell_type": "markdown",
   "metadata": {},
   "source": [
    "### CONFUSION MATRIX VISUALIZATION"
   ]
  },
  {
   "cell_type": "code",
   "execution_count": 27,
   "metadata": {},
   "outputs": [
    {
     "data": {
      "image/png": "[encoded data removed]",
      "text/plain": [
       "<Figure size 864x720 with 2 Axes>"
      ]
     },
     "metadata": {
      "needs_background": "light"
     },
     "output_type": "display_data"
    }
   ],
   "source": [
    "plot_confusion_matrix(targets, predictions, model_name=\"Base Model\")"
   ]
  },
  {
   "cell_type": "markdown",
   "metadata": {},
   "source": [
    "## Improving your model\n",
    "\n",
    "Once your model is done training, try tweaking your hyperparameters and training again below to improve your accuracy on the test set!"
   ]
  },
  {
   "cell_type": "markdown",
   "metadata": {},
   "source": [
    "### MODEL IMPROVEMENT (HYPERPARAMETER TUNING)\n",
    "\n",
    "##### \"HYPERPARAMETER TUNING FOR IMPROVED PERFORMANCE\")\n"
   ]
  },
  {
   "cell_type": "markdown",
   "metadata": {},
   "source": [
    "### MODEL INSTANTIATION AND CONFIGURATION"
   ]
  },
  {
   "cell_type": "code",
   "execution_count": 36,
   "metadata": {},
   "outputs": [
    {
     "name": "stdout",
     "output_type": "stream",
     "text": [
      "Model architecture (UNCHANGED):\n",
      "MNISTClassifier(\n",
      "  (flatten): Flatten(start_dim=1, end_dim=-1)\n",
      "  (fc1): Linear(in_features=784, out_features=512, bias=True)\n",
      "  (dropout1): Dropout(p=0.25, inplace=False)\n",
      "  (fc2): Linear(in_features=512, out_features=256, bias=True)\n",
      "  (dropout2): Dropout(p=0.25, inplace=False)\n",
      "  (fc3): Linear(in_features=256, out_features=128, bias=True)\n",
      "  (dropout3): Dropout(p=0.25, inplace=False)\n",
      "  (fc4): Linear(in_features=128, out_features=10, bias=True)\n",
      ")\n",
      "Model Parameters: 567,434\n",
      "\n",
      "Hyperparameter Changes:\n",
      "Original Model:\n",
      "  - Dropout: 0.3\n",
      "  - Optimizer: Adam (lr=0.001)\n",
      "  - Learning Rate: Fixed\n",
      "  - Loss: CrossEntropyLoss\n",
      "  - Epochs: 10\n",
      "\n",
      "Improved Model (Conservative Hyperparameter Tuning):\n",
      "  - Dropout: 0.25 (slightly reduced for better learning)\n",
      "  - Optimizer: Adam (lr=0.002 - higher learning rate)\n",
      "  - Learning Rate: StepLR scheduler (decay every 3 epochs)\n",
      "  - Loss: CrossEntropyLoss (keep simple)\n",
      "  - Epochs: 5 (same duration)\n"
     ]
    }
   ],
   "source": [
    "# Train improved model by only tweaking hyperparameters\n",
    "improved_model = MNISTClassifier(\n",
    "    input_size=784,\n",
    "    hidden_sizes=[512, 256, 128],  # Keeping the original architecture\n",
    "    num_classes=10,\n",
    "    dropout_rate=0.25  # Increased from 0.3 to 0.4 for better regularization\n",
    ").to(device)\n",
    "\n",
    "improved_criterion = nn.CrossEntropyLoss() \n",
    "\n",
    "improved_optimizer = optim.Adam(\n",
    "    improved_model.parameters(), \n",
    "    lr=0.002, \n",
    "    weight_decay=1e-5\n",
    ")\n",
    "\n",
    "# OneCycleLR can be tricky to tune properly use StepLR\n",
    "improved_scheduler = optim.lr_scheduler.StepLR(\n",
    "    improved_optimizer, \n",
    "    step_size=2,\n",
    "    gamma=0.5 \n",
    ")\n",
    "\n",
    "print(f\"Model architecture (UNCHANGED):\\n{improved_model}\")\n",
    "print(f\"Model Parameters: {sum(p.numel() for p in improved_model.parameters()):,}\")\n",
    "\n",
    "# Training configuration comparison\n",
    "print(\"\\nHyperparameter Changes:\")\n",
    "print(\"Original Model:\")\n",
    "print(\"  - Dropout: 0.3\")\n",
    "print(\"  - Optimizer: Adam (lr=0.001)\")\n",
    "print(\"  - Learning Rate: Fixed\")\n",
    "print(\"  - Loss: CrossEntropyLoss\")\n",
    "print(\"  - Epochs: 10\")\n",
    "\n",
    "print(\"\\nImproved Model (Conservative Hyperparameter Tuning):\")\n",
    "print(\"  - Dropout: 0.25 (slightly reduced for better learning)\")\n",
    "print(\"  - Optimizer: Adam (lr=0.002 - higher learning rate)\")\n",
    "print(\"  - Learning Rate: StepLR scheduler (decay every 3 epochs)\")\n",
    "print(\"  - Loss: CrossEntropyLoss (keep simple)\")\n",
    "print(\"  - Epochs: 5 (same duration)\")"
   ]
  },
  {
   "cell_type": "markdown",
   "metadata": {},
   "source": [
    "### TRAINING THE IMPROVED MODEL"
   ]
  },
  {
   "cell_type": "code",
   "execution_count": 37,
   "metadata": {},
   "outputs": [
    {
     "name": "stdout",
     "output_type": "stream",
     "text": [
      "\n",
      "Training improved model with optimized hyperparameters...\n",
      "Starting training with validation...\n",
      "======================================================================\n"
     ]
    },
    {
     "name": "stderr",
     "output_type": "stream",
     "text": [
      "Epoch 1/5 [Train]: 100%|██████████| 938/938 [00:18<00:00, 49.82it/s, Loss=0.3256, Acc=90.38%]\n",
      "Epoch 1/5 [Val]  : 100%|██████████| 157/157 [00:04<00:00, 36.58it/s, Loss=0.1450, Acc=95.83%]\n"
     ]
    },
    {
     "name": "stdout",
     "output_type": "stream",
     "text": [
      "Epoch [ 1/5] | Train Loss: 0.3215 | Train Acc:  90.51% | Val Loss: 0.1450 | Val Acc:  95.83%\n"
     ]
    },
    {
     "name": "stderr",
     "output_type": "stream",
     "text": [
      "Epoch 2/5 [Train]: 100%|██████████| 938/938 [00:18<00:00, 50.66it/s, Loss=0.1854, Acc=94.80%]\n",
      "Epoch 2/5 [Val]  : 100%|██████████| 157/157 [00:04<00:00, 34.18it/s, Loss=0.1160, Acc=96.76%]\n"
     ]
    },
    {
     "name": "stdout",
     "output_type": "stream",
     "text": [
      "Epoch [ 2/5] | Train Loss: 0.1844 | Train Acc:  94.83% | Val Loss: 0.1160 | Val Acc:  96.76%\n"
     ]
    },
    {
     "name": "stderr",
     "output_type": "stream",
     "text": [
      "Epoch 3/5 [Train]: 100%|██████████| 938/938 [00:18<00:00, 51.24it/s, Loss=0.1131, Acc=96.81%]\n",
      "Epoch 3/5 [Val]  : 100%|██████████| 157/157 [00:04<00:00, 36.87it/s, Loss=0.0921, Acc=97.30%]\n"
     ]
    },
    {
     "name": "stdout",
     "output_type": "stream",
     "text": [
      "Epoch [ 3/5] | Train Loss: 0.1129 | Train Acc:  96.82% | Val Loss: 0.0921 | Val Acc:  97.30%\n"
     ]
    },
    {
     "name": "stderr",
     "output_type": "stream",
     "text": [
      "Epoch 4/5 [Train]: 100%|██████████| 938/938 [00:18<00:00, 51.55it/s, Loss=0.0946, Acc=97.26%]\n",
      "Epoch 4/5 [Val]  : 100%|██████████| 157/157 [00:03<00:00, 39.29it/s, Loss=0.0802, Acc=97.76%]\n"
     ]
    },
    {
     "name": "stdout",
     "output_type": "stream",
     "text": [
      "Epoch [ 4/5] | Train Loss: 0.0951 | Train Acc:  97.25% | Val Loss: 0.0802 | Val Acc:  97.76%\n"
     ]
    },
    {
     "name": "stderr",
     "output_type": "stream",
     "text": [
      "Epoch 5/5 [Train]: 100%|██████████| 938/938 [00:17<00:00, 53.84it/s, Loss=0.0682, Acc=97.92%]\n",
      "Epoch 5/5 [Val]  : 100%|██████████| 157/157 [00:04<00:00, 34.82it/s, Loss=0.0677, Acc=98.04%]"
     ]
    },
    {
     "name": "stdout",
     "output_type": "stream",
     "text": [
      "Epoch [ 5/5] | Train Loss: 0.0684 | Train Acc:  97.92% | Val Loss: 0.0677 | Val Acc:  98.04%\n",
      "======================================================================\n",
      "Training completed!\n",
      "\n",
      "📊 Final Results:\n",
      "   Training   - Loss: 0.0684, Accuracy: 97.92%\n",
      "   Validation - Loss: 0.0677, Accuracy: 98.04%\n"
     ]
    },
    {
     "name": "stderr",
     "output_type": "stream",
     "text": [
      "\n"
     ]
    }
   ],
   "source": [
    "print(\"\\nTraining improved model with optimized hyperparameters...\")\n",
    "improved_train_losses, improved_train_accuracies, improved_val_losses, improved_val_accuracies = train_model(\n",
    "    improved_model, train_loader, test_loader, improved_criterion, improved_optimizer, improved_scheduler, num_epochs=5\n",
    ")"
   ]
  },
  {
   "cell_type": "markdown",
   "metadata": {},
   "source": [
    "### TRAINING VISUALIZATION OF THE IMPROVED MODEL"
   ]
  },
  {
   "cell_type": "code",
   "execution_count": 38,
   "metadata": {},
   "outputs": [
    {
     "name": "stdout",
     "output_type": "stream",
     "text": [
      "\n",
      "📊 Improved Model Training & Validation Curves:\n"
     ]
    },
    {
     "data": {
      "image/png": "[encoded data removed]",
      "text/plain": [
       "<Figure size 1080x360 with 2 Axes>"
      ]
     },
     "metadata": {
      "needs_background": "light"
     },
     "output_type": "display_data"
    }
   ],
   "source": [
    "# Plot training and validation curves\n",
    "print(\"\\n📊 Improved Model Training & Validation Curves:\")\n",
    "plot_training_validation_curves(improved_train_losses, improved_train_accuracies, improved_val_losses, improved_val_accuracies,\n",
    "                               model_name=\"Improved MNIST Model\")"
   ]
  },
  {
   "cell_type": "markdown",
   "metadata": {},
   "source": [
    "### EVALUATING THE IMPROVED MODEL"
   ]
  },
  {
   "cell_type": "code",
   "execution_count": 39,
   "metadata": {},
   "outputs": [
    {
     "name": "stdout",
     "output_type": "stream",
     "text": [
      "\n",
      "Evaluating improved model...\n"
     ]
    },
    {
     "name": "stderr",
     "output_type": "stream",
     "text": [
      "Evaluating: 100%|██████████| 157/157 [00:04<00:00, 33.44it/s]"
     ]
    },
    {
     "name": "stdout",
     "output_type": "stream",
     "text": [
      "Test Results:\n",
      "Average Loss: 0.0677\n",
      "Overall Accuracy: 98.04% (9804/10000)\n",
      "\n",
      "Per-class Accuracy:\n",
      "Digit 0: 99.29% (973/980)\n",
      "Digit 1: 99.12% (1125/1135)\n",
      "Digit 2: 98.35% (1015/1032)\n",
      "Digit 3: 98.42% (994/1010)\n",
      "Digit 4: 98.17% (964/982)\n",
      "Digit 5: 97.76% (872/892)\n",
      "Digit 6: 98.23% (941/958)\n",
      "Digit 7: 98.54% (1013/1028)\n",
      "Digit 8: 96.61% (941/974)\n",
      "Digit 9: 95.74% (966/1009)\n"
     ]
    },
    {
     "name": "stderr",
     "output_type": "stream",
     "text": [
      "\n"
     ]
    }
   ],
   "source": [
    "# Evaluate improved model\n",
    "print(\"\\nEvaluating improved model...\")\n",
    "improved_accuracy, improved_predictions, improved_targets = evaluate_model(improved_model, test_loader, improved_criterion)"
   ]
  },
  {
   "cell_type": "markdown",
   "metadata": {},
   "source": [
    "As we can see with the improved architecture, tranning only 6 epochs was good to pass the accuracy of the first architecture which was already good but was trained during 10 epochs to achieve its result."
   ]
  },
  {
   "cell_type": "markdown",
   "metadata": {},
   "source": [
    "### CONFUSION MATRIX VISUALIZATION OF THE IMPROVED MODEL"
   ]
  },
  {
   "cell_type": "code",
   "execution_count": 40,
   "metadata": {},
   "outputs": [
    {
     "data": {
      "image/png": "[encoded data removed]",
      "text/plain": [
       "<Figure size 864x720 with 2 Axes>"
      ]
     },
     "metadata": {
      "needs_background": "light"
     },
     "output_type": "display_data"
    }
   ],
   "source": [
    "plot_confusion_matrix(improved_targets, improved_predictions, model_name=\"Improved Model\")"
   ]
  },
  {
   "cell_type": "markdown",
   "metadata": {},
   "source": [
    "### COMPARE BOTH MODELS"
   ]
  },
  {
   "cell_type": "code",
   "execution_count": 47,
   "metadata": {},
   "outputs": [],
   "source": [
    "# Model comparison data with actual values\n",
    "models_data = {\n",
    "    'Base Model with 10 epochs training': {\n",
    "        'accuracy': base_accuracy, \n",
    "        'loss': 0.0745,  # From the base model results\n",
    "        'params': sum(p.numel() for p in base_model.parameters())\n",
    "    },\n",
    "    'Improved Model with 5 epochs training': {\n",
    "        'accuracy': improved_accuracy, \n",
    "        'loss': 0.0677,  # From your improved model results  \n",
    "        'params': sum(p.numel() for p in improved_model.parameters())\n",
    "    }\n",
    "}"
   ]
  },
  {
   "cell_type": "code",
   "execution_count": 48,
   "metadata": {},
   "outputs": [
    {
     "data": {
      "image/png": "[encoded data removed]",
      "text/plain": [
       "<Figure size 864x432 with 1 Axes>"
      ]
     },
     "metadata": {
      "needs_background": "light"
     },
     "output_type": "display_data"
    }
   ],
   "source": [
    "plot_model_comparison(models_data, metric='accuracy')"
   ]
  },
  {
   "cell_type": "markdown",
   "metadata": {},
   "source": [
    "## Saving your model\n",
    "Using `torch.save`, save your model for future loading."
   ]
  },
  {
   "cell_type": "code",
   "execution_count": 49,
   "metadata": {},
   "outputs": [
    {
     "name": "stdout",
     "output_type": "stream",
     "text": [
      "\n",
      "Best model saved with accuracy: 98.04%\n"
     ]
    }
   ],
   "source": [
    "# Save the best performing model\n",
    "best_model = improved_model if improved_accuracy > base_accuracy else base_model\n",
    "best_accuracy = max(improved_accuracy, base_accuracy)\n",
    "\n",
    "torch.save({\n",
    "    'model_state_dict': best_model.state_dict(),\n",
    "    'model_architecture': 'ImprovedMNISTClassifier' if improved_accuracy > base_accuracy else 'MNISTClassifier',\n",
    "    'accuracy': best_accuracy,\n",
    "    'epoch': 6 if improved_accuracy > base_accuracy else 10,\n",
    "}, 'mnist_classifier_best.pth')\n",
    "\n",
    "print(f\"\\nBest model saved with accuracy: {best_accuracy:.2f}%\")"
   ]
  },
  {
   "cell_type": "markdown",
   "metadata": {},
   "source": [
    "### BENCHMARKING AGAINST PUBLISHED RESULTS"
   ]
  },
  {
   "cell_type": "code",
   "execution_count": 50,
   "metadata": {},
   "outputs": [
    {
     "name": "stdout",
     "output_type": "stream",
     "text": [
      "\n",
      "============================================================\n",
      "BENCHMARKING AGAINST PUBLISHED RESULTS\n",
      "============================================================\n",
      "Performance Comparison:\n",
      "Lecun et al., 1998 (Linear)   : 88.00%\n",
      "Lecun et al., 1998 (MLP)      : 95.30%\n",
      "Ciresan et al., 2011 (CNN)    : 99.65%\n",
      "Our Model                     : 98.04%\n",
      "SUCCESS: Model achieved 98.04% accuracy (>90% threshold met)\n",
      "EXCELLENT: Model outperformed the 1998 MLP baseline in only 6 Epochs!\n"
     ]
    }
   ],
   "source": [
    "print(\"\\n\" + \"=\"*60)\n",
    "print(\"BENCHMARKING AGAINST PUBLISHED RESULTS\")\n",
    "print(\"=\"*60)\n",
    "\n",
    "benchmarks = {\n",
    "    \"Lecun et al., 1998 (Linear)\": 88.0,\n",
    "    \"Lecun et al., 1998 (MLP)\": 95.3,\n",
    "    \"Ciresan et al., 2011 (CNN)\": 99.65,\n",
    "    \"Our Model\": best_accuracy\n",
    "}\n",
    "\n",
    "print(\"Performance Comparison:\")\n",
    "for model_name, accuracy in benchmarks.items():\n",
    "    print(f\"{model_name:<30}: {accuracy:.2f}%\")\n",
    "\n",
    "if best_accuracy >= 90:\n",
    "    print(f\"SUCCESS: Model achieved {best_accuracy:.2f}% accuracy (>90% threshold met)\")\n",
    "    if best_accuracy > 95.3:\n",
    "        print(\"EXCELLENT: Model outperformed the 1998 MLP baseline in only 6 Epochs!\")\n",
    "else:\n",
    "    print(f\"NEEDS IMPROVEMENT: Model achieved {best_accuracy:.2f}% accuracy (<90% threshold)\")\n",
    "\n"
   ]
  },
  {
   "cell_type": "code",
   "execution_count": 54,
   "metadata": {},
   "outputs": [
    {
     "name": "stdout",
     "output_type": "stream",
     "text": [
      "🎯 MNIST DIGIT CLASSIFICATION PROJECT SUMMARY\n",
      "============================================================\n",
      "✅ Base Model Accuracy: 97.97%\n",
      "✅ Improved Model Accuracy: 98.04%\n",
      "✅ Improvement: +0.07%\n",
      "✅ Both models exceed 90% threshold\n",
      "✅ Outperformed 1998 MLP baseline (95.3%)\n",
      "\n",
      "🏆 PROJECT COMPLETED!\n"
     ]
    }
   ],
   "source": [
    "print(\"🎯 MNIST DIGIT CLASSIFICATION PROJECT SUMMARY\")\n",
    "\n",
    "print(\"=\"*60)\n",
    "\n",
    "print(f\"✅ Base Model Accuracy: {base_accuracy:.2f}%\")\n",
    "\n",
    "print(f\"✅ Improved Model Accuracy: {improved_accuracy:.2f}%\")\n",
    "\n",
    "print(f\"✅ Improvement: +{improved_accuracy - base_accuracy:.2f}%\")\n",
    "\n",
    "print(f\"✅ Both models exceed 90% threshold\")\n",
    "\n",
    "print(f\"✅ Outperformed 1998 MLP baseline (95.3%)\")\n",
    "\n",
    "print(\"\\n🏆 PROJECT COMPLETED!\")"
   ]
  },
  {
   "cell_type": "code",
   "execution_count": null,
   "metadata": {},
   "outputs": [],
   "source": []
  }
 ],
 "metadata": {
  "kernelspec": {
   "display_name": "Python 3",
   "language": "python",
   "name": "python3"
  },
  "language_info": {
   "codemirror_mode": {
    "name": "ipython",
    "version": 3
   },
   "file_extension": ".py",
   "mimetype": "text/x-python",
   "name": "python",
   "nbconvert_exporter": "python",
   "pygments_lexer": "ipython3",
   "version": "3.7.6"
  }
 },
 "nbformat": 4,
 "nbformat_minor": 4
}
